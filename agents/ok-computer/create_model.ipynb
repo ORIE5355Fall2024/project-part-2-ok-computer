{
 "cells": [
  {
   "metadata": {
    "ExecuteTime": {
     "end_time": "2024-12-01T10:52:44.631423Z",
     "start_time": "2024-12-01T10:52:37.186158Z"
    }
   },
   "cell_type": "code",
   "source": [
    "import pandas as pd\n",
    "from sklearn.model_selection import train_test_split, GridSearchCV\n",
    "from sklearn.preprocessing import PolynomialFeatures\n",
    "from sklearn.metrics import accuracy_score\n",
    "import pickle\n",
    "import xgboost as xgb\n",
    "\n",
    "# Load training data\n",
    "data = pd.read_csv('/Users/man/Desktop/project-part-2-ok-computer-main/data/train_prices_decisions_2024.csv')\n",
    "\n",
    "# Convert 'item_bought' to binary (True -> 1, False -> 0)\n",
    "data['item_bought'] = data['item_bought'].astype(int)\n",
    "\n",
    "# Features and target\n",
    "X = data[['Covariate1', 'Covariate2', 'Covariate3', 'price_item']]\n",
    "y = data['item_bought']\n",
    "\n",
    "# Polynomial features for non-linear interactions\n",
    "poly = PolynomialFeatures(degree=2, include_bias=False)\n",
    "X_poly = poly.fit_transform(X)\n",
    "\n",
    "# Train-test split\n",
    "X_train, X_val, y_train, y_val = train_test_split(X_poly, y, test_size=0.2, random_state=42)\n",
    "\n",
    "# Initialize XGBoost model\n",
    "xgb_model = xgb.XGBClassifier()\n",
    "\n",
    "# Hyperparameter grid\n",
    "param_grid = {\n",
    "    'n_estimators': [50, 100, 200],\n",
    "    'learning_rate': [0.01, 0.1, 0.2],\n",
    "    'max_depth': [3, 5, 7],\n",
    "    'subsample': [0.8, 1.0],\n",
    "    'colsample_bytree': [0.8, 1.0]\n",
    "}\n",
    "\n",
    "# Grid search\n",
    "grid_search = GridSearchCV(estimator=xgb_model, param_grid=param_grid, cv=3, scoring='accuracy', verbose=2, n_jobs=-1)\n",
    "grid_search.fit(X_train, y_train)\n",
    "\n",
    "# Best model from grid search\n",
    "best_model = grid_search.best_estimator_\n",
    "print(f\"Best Parameters: {grid_search.best_params_}\")\n",
    "\n",
    "# Validation accuracy\n",
    "y_pred = best_model.predict(X_val)\n",
    "accuracy = accuracy_score(y_val, y_pred)\n",
    "print(\"Validation Accuracy:\", accuracy)\n",
    "\n",
    "# Save the model and polynomial transformer\n",
    "with open('/Users/man/Desktop/project-part-1-ok-computer-main/agents/ok-computer/trained_model.pkl', 'wb') as f:\n",
    "    pickle.dump({'model': best_model, 'poly': poly}, f)\n",
    "\n",
    "print(\"Best XGBoost model and transformer saved.\")"
   ],
   "outputs": [
    {
     "name": "stdout",
     "output_type": "stream",
     "text": [
      "Fitting 3 folds for each of 108 candidates, totalling 324 fits\n",
      "Best Parameters: {'colsample_bytree': 1.0, 'learning_rate': 0.2, 'max_depth': 3, 'n_estimators': 200, 'subsample': 0.8}\n",
      "Validation Accuracy: 0.9857\n",
      "Best XGBoost model and transformer saved.\n"
     ]
    }
   ],
   "execution_count": 2
  }
 ],
 "metadata": {
  "kernelspec": {
   "display_name": "orie5355",
   "language": "python",
   "name": "python3"
  },
  "language_info": {
   "codemirror_mode": {
    "name": "ipython",
    "version": 3
   },
   "file_extension": ".py",
   "mimetype": "text/x-python",
   "name": "python",
   "nbconvert_exporter": "python",
   "pygments_lexer": "ipython3",
   "version": "3.12.2"
  },
  "orig_nbformat": 4
 },
 "nbformat": 4,
 "nbformat_minor": 2
}
